{
 "cells": [
  {
   "cell_type": "code",
   "execution_count": 1,
   "metadata": {},
   "outputs": [],
   "source": [
    "import numpy as np\n",
    "from scipy import linalg"
   ]
  },
  {
   "cell_type": "markdown",
   "metadata": {},
   "source": [
    "Промисловість, сільське господарство:"
   ]
  },
  {
   "cell_type": "code",
   "execution_count": 2,
   "metadata": {},
   "outputs": [
    {
     "name": "stdout",
     "output_type": "stream",
     "text": [
      "1700 850\n"
     ]
    }
   ],
   "source": [
    "x11 = 500\n",
    "x12 = 300\n",
    "y1 = 900\n",
    "\n",
    "x21 = 150\n",
    "x22 = 200\n",
    "y2 = 500\n",
    "\n",
    "x1 = x11 + x12 + y1\n",
    "x2 = x21 + x22 + y2\n",
    "print(x1, x2)"
   ]
  },
  {
   "cell_type": "markdown",
   "metadata": {},
   "source": [
    "Коефіцієнти матеріальних витрат, технологічна матриця"
   ]
  },
  {
   "cell_type": "code",
   "execution_count": 3,
   "metadata": {},
   "outputs": [
    {
     "name": "stdout",
     "output_type": "stream",
     "text": [
      "[[0.29411765 0.35294118]\n",
      " [0.08823529 0.23529412]]\n"
     ]
    }
   ],
   "source": [
    "A = np.array([[x11/x1, x12/x2], [x21/x1, x22/x2]])\n",
    "print(A)"
   ]
  },
  {
   "cell_type": "code",
   "execution_count": 4,
   "metadata": {},
   "outputs": [
    {
     "name": "stdout",
     "output_type": "stream",
     "text": [
      "[1100  800]\n"
     ]
    }
   ],
   "source": [
    "Y = np.array([1100,800])\n",
    "print(Y)\n",
    "X = np.dot(np.linalg.inv(np.eye(2) - A), Y.T)"
   ]
  },
  {
   "cell_type": "markdown",
   "metadata": {},
   "source": [
    "Повний випуск промислової продукції"
   ]
  },
  {
   "cell_type": "code",
   "execution_count": 5,
   "metadata": {},
   "outputs": [
    {
     "data": {
      "text/plain": [
       "2208.8435374149662"
      ]
     },
     "execution_count": 5,
     "metadata": {},
     "output_type": "execute_result"
    }
   ],
   "source": [
    "X[0]"
   ]
  },
  {
   "cell_type": "markdown",
   "metadata": {},
   "source": [
    "Повний випуск с/г продукції"
   ]
  },
  {
   "cell_type": "code",
   "execution_count": 6,
   "metadata": {},
   "outputs": [
    {
     "data": {
      "text/plain": [
       "1301.0204081632655"
      ]
     },
     "execution_count": 6,
     "metadata": {},
     "output_type": "execute_result"
    }
   ],
   "source": [
    "X[1]"
   ]
  },
  {
   "cell_type": "code",
   "execution_count": 7,
   "metadata": {},
   "outputs": [],
   "source": [
    "A = np.matrix([[0.5, 0.1, 0.5],\n",
    "               [0, 0.3, 0.1],\n",
    "               [0.2, 0.3, 0.1]])"
   ]
  },
  {
   "cell_type": "markdown",
   "metadata": {},
   "source": [
    "Власні числа:"
   ]
  },
  {
   "cell_type": "code",
   "execution_count": 8,
   "metadata": {},
   "outputs": [
    {
     "data": {
      "text/plain": [
       "array([-0.1236068,  0.7      ,  0.3236068])"
      ]
     },
     "execution_count": 8,
     "metadata": {},
     "output_type": "execute_result"
    }
   ],
   "source": [
    "np.linalg.eigvals(A)"
   ]
  },
  {
   "cell_type": "markdown",
   "metadata": {},
   "source": [
    "Коефіцієнти характеристичного поліному:"
   ]
  },
  {
   "cell_type": "code",
   "execution_count": 9,
   "metadata": {},
   "outputs": [
    {
     "data": {
      "text/plain": [
       "array([ 1.   , -0.9  ,  0.1  ,  0.028])"
      ]
     },
     "execution_count": 9,
     "metadata": {},
     "output_type": "execute_result"
    }
   ],
   "source": [
    "np.poly(A)"
   ]
  },
  {
   "cell_type": "markdown",
   "metadata": {},
   "source": [
    "Число Фробеніуса:"
   ]
  },
  {
   "cell_type": "code",
   "execution_count": 10,
   "metadata": {},
   "outputs": [
    {
     "name": "stdout",
     "output_type": "stream",
     "text": [
      "0.6999999999999995\n"
     ]
    }
   ],
   "source": [
    "lambda_A = max(np.linalg.eigvals(A))\n",
    "print(lambda_A)"
   ]
  },
  {
   "cell_type": "markdown",
   "metadata": {},
   "source": [
    "Правий вектор Фробеніуса:"
   ]
  },
  {
   "cell_type": "code",
   "execution_count": 33,
   "metadata": {
    "scrolled": true
   },
   "outputs": [
    {
     "name": "stdout",
     "output_type": "stream",
     "text": [
      "[[-0.2  0.1  0.5]\n",
      " [ 0.  -0.4  0.1]\n",
      " [ 0.2  0.3 -0.6]]\n",
      "[[0.2 0.  0.2]]\n",
      "\n",
      "[[-0.2  0.1  0.5]\n",
      " [ 0.  -0.4  0.1]\n",
      " [ 0.2  0.3 -0.6]]\n",
      "(array([-0.1236068,  0.7      ,  0.3236068]), matrix([[-0.26160934,  0.57735027,  0.14087505],\n",
      "        [-0.51592919,  0.57735027, -0.98220003],\n",
      "        [ 0.81570682,  0.57735027, -0.12424701]]))\n"
     ]
    }
   ],
   "source": [
    "A1 = A - np.eye(3) * lambda_A\n",
    "print(A1)\n",
    "print(np.abs(A1[:,0]).T)\n",
    "print()\n",
    "\n",
    "C = A - np.eye(3) * lambda_A\n",
    "print(C)\n",
    "b = np.array([0, 0, 0])\n",
    "x = np.linalg.eig(A.T)\n",
    "print(x)\n",
    "# np.allclose(np.dot(C, x), b)"
   ]
  },
  {
   "cell_type": "markdown",
   "metadata": {},
   "source": [
    "Лівий вектор Фробеніуса:"
   ]
  },
  {
   "cell_type": "code",
   "execution_count": 29,
   "metadata": {},
   "outputs": [
    {
     "name": "stdout",
     "output_type": "stream",
     "text": [
      "[[-0.2  0.   0.2]\n",
      " [ 0.1 -0.4  0.3]\n",
      " [ 0.5  0.1 -0.6]]\n",
      "\n",
      "[[0.2 0.1 0.5]]\n",
      "\n",
      "[ 0. -0.  0.]\n"
     ]
    }
   ],
   "source": [
    "A2 = A.T - np.eye(3) * lambda_A\n",
    "print(A2)\n",
    "print()\n",
    "print(np.abs(A2[:,0]).T)\n",
    "print()\n",
    "\n",
    "x = np.linalg.solve(A.T - np.eye(3) * lambda_A, np.array([0, 0, 0]))\n",
    "print(x)"
   ]
  },
  {
   "cell_type": "markdown",
   "metadata": {},
   "source": [
    "Число Фробеніуса < 1, отже, матриця A продуктивна"
   ]
  },
  {
   "cell_type": "markdown",
   "metadata": {},
   "source": [
    "B - матриця повних матеріальних витрат"
   ]
  },
  {
   "cell_type": "code",
   "execution_count": 25,
   "metadata": {},
   "outputs": [
    {
     "name": "stdout",
     "output_type": "stream",
     "text": [
      "[[2.63157895 1.05263158 1.57894737]\n",
      " [0.0877193  1.53508772 0.21929825]\n",
      " [0.61403509 0.74561404 1.53508772]]\n",
      "Збіжний: 9 ітерацій\n"
     ]
    }
   ],
   "source": [
    "E = np.eye(3)\n",
    "B = np.linalg.inv(E - A)\n",
    "print(B)\n",
    "\n",
    "t0 = E\n",
    "t1 = E + A\n",
    "A_i = A\n",
    "\n",
    "i = 0\n",
    "while (np.any(np.abs(t1-t0) > 0.01)):\n",
    "    i = i + 1\n",
    "    t0 = t1\n",
    "    A_i = np.dot(A, A_i)\n",
    "    t1 = E + A_i\n",
    "\n",
    "print(\"Збіжний: {} ітерацій\".format(i))"
   ]
  },
  {
   "cell_type": "markdown",
   "metadata": {},
   "source": [
    "Матриця А продуктивна\n",
    "\n",
    "ряд Е + А + A^2 + A^3 - збіжний\n",
    "\n",
    "Вектор цін"
   ]
  },
  {
   "cell_type": "code",
   "execution_count": 14,
   "metadata": {},
   "outputs": [
    {
     "name": "stdout",
     "output_type": "stream",
     "text": [
      "[[0.79824561 0.96929825 0.99561404]]\n"
     ]
    }
   ],
   "source": [
    "s = np.array([0.2, 0.3, 0.4])\n",
    "p = s @ B\n",
    "print(p)"
   ]
  },
  {
   "cell_type": "code",
   "execution_count": null,
   "metadata": {},
   "outputs": [],
   "source": []
  }
 ],
 "metadata": {
  "kernelspec": {
   "display_name": "Python 3",
   "language": "python",
   "name": "python3"
  },
  "language_info": {
   "codemirror_mode": {
    "name": "ipython",
    "version": 3
   },
   "file_extension": ".py",
   "mimetype": "text/x-python",
   "name": "python",
   "nbconvert_exporter": "python",
   "pygments_lexer": "ipython3",
   "version": "3.7.1"
  }
 },
 "nbformat": 4,
 "nbformat_minor": 2
}
